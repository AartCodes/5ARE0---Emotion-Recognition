{
 "cells": [
  {
   "cell_type": "markdown",
   "id": "9ba4b8c0",
   "metadata": {},
   "source": [
    "# Assignment 2\n",
    "\n",
    "The idea behind assignment 2 is to build an ML model that recognizes emotions from images (sad face, happy, surprised, etc.). In order to achieve this, we will train the FER 2013 dataset that can befound in Kaggle (https://www.kaggle.com/datasets/purnisharma/fer2013). This version of FER 2013 stores all the images and labels for the three splits in a single .csv file. The very first steo is to split this into the three sets so that we avoid data leakages between the training, private test and public test sets.\n",
    "\n",
    "The training set will be used for training. You will try to improve the performance by measuring on the private test set and to make your final validation in the public test set.\n"
   ]
  },
  {
   "cell_type": "code",
   "execution_count": null,
   "id": "b5ef313f",
   "metadata": {},
   "outputs": [],
   "source": [
    "import pandas as pd\n",
    "import numpy as np\n",
    "from skimage.feature import hog\n",
    "import matplotlib.pyplot as plt\n",
    "import seaborn as sns\n",
    "\n",
    "from sklearn.utils.class_weight import compute_class_weight\n",
    "\n",
    "# Load the dataset\n",
    "df = pd.read_csv(\"fer2013.csv\") # Add here the path to your fer2013.csv file\n",
    "\n",
    "###################################################################\n",
    "# Separating the dataset between train, test, and validation sets\n",
    "###################################################################\n",
    "# The dataset already contains the splits which are specified in the \n",
    "# \"Usage\" field\n",
    "print( df['Usage'].value_counts() )\n",
    "\n",
    "# We use for training and validation the \"Training\" and \"PublicTest\"\n",
    "trai_df = df[df['Usage']== 'Training'].copy()\n",
    "vali_df = df[df['Usage'] == 'PublicTest'].copy()\n",
    "test_df = df[df['Usage'] == 'PrivateTest'].copy() \n",
    "\n",
    "# Storing train and test data frames\n",
    "trai_df.to_csv(\"./data/er2013_train.csv\", encoding='utf-8', index=False)\n",
    "vali_df.to_csv(\"./data/fer2013_validation.csv\", encoding='utf-8', index=False)\n",
    "test_df.to_csv(\"./data/fer2013_test.csv\", encoding='utf-8', index=False)"
   ]
  },
  {
   "cell_type": "markdown",
   "id": "6560d3a2",
   "metadata": {},
   "source": [
    "Now we compute the class weights for the training set"
   ]
  },
  {
   "cell_type": "code",
   "execution_count": null,
   "id": "9a3c5cc1",
   "metadata": {},
   "outputs": [],
   "source": [
    "emotionDict = {\n",
    "    0:'0: Angry',\n",
    "    1:'1: Disgust',\n",
    "    2:'2: Fear',\n",
    "    3:'3: Happy',\n",
    "    4:'4: Sad',\n",
    "    5:'5: Surprise',\n",
    "    6:'6: Neutral'\n",
    "}\n",
    "\n",
    "\n",
    "sns.catplot(data=trai_df.replace({'emotion': emotionDict}), kind='count', x='emotion', height=4, aspect=2)\n",
    "\n",
    "#sns.countplot(x ='emotion', data = trai_df)\n",
    "plt.show()"
   ]
  },
  {
   "cell_type": "code",
   "execution_count": null,
   "id": "b2c505fc",
   "metadata": {},
   "outputs": [],
   "source": [
    "import matplotlib.pyplot as plt\n",
    "\n",
    "# Now making some plots\n",
    "random_rows = df.sample(n=21, random_state=43)\n",
    "imgs = [np.fromstring(pixels, sep=' ').reshape(48, 48) for pixels in random_rows['pixels']]\n",
    "lbl =  random_rows['emotion'].values\n",
    "\n",
    "fig, axes = plt.subplots(nrows=3, ncols=7, figsize=(23, 10))\n",
    "fig.suptitle('Sample images FER 2013', fontsize=16)\n",
    "\n",
    "# Loop through each subplot and customize\n",
    "for i in range(7):\n",
    "    for j in range(3):\n",
    "        ax = axes[j, i]\n",
    "        ax.imshow(imgs[j*7+i], cmap=\"gray\") \n",
    "        ax.set_title('%s'%(emotionDict[lbl[j*7+i]]))\n",
    "        #ax.grid(True)\n",
    "plt.show()\n"
   ]
  },
  {
   "cell_type": "code",
   "execution_count": null,
   "id": "f34edf7f",
   "metadata": {},
   "outputs": [],
   "source": []
  }
 ],
 "metadata": {
  "kernelspec": {
   "display_name": "pytorch_2p8",
   "language": "python",
   "name": "python3"
  },
  "language_info": {
   "codemirror_mode": {
    "name": "ipython",
    "version": 3
   },
   "file_extension": ".py",
   "mimetype": "text/x-python",
   "name": "python",
   "nbconvert_exporter": "python",
   "pygments_lexer": "ipython3",
   "version": "3.10.18"
  }
 },
 "nbformat": 4,
 "nbformat_minor": 5
}
